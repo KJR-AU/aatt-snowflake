{
 "metadata": {
  "kernelspec": {
   "display_name": "Streamlit Notebook",
   "name": "streamlit"
  },
  "lastEditStatus": {
   "notebookId": "aydsgpp76adksqol23rv",
   "authorId": "5527779506917",
   "authorName": "PATRICK.VICKY",
   "authorEmail": "PATRICK.VICKY@KJR.COM.AU",
   "sessionId": "73d1a846-c292-4d28-ab7b-e7c208f33fd6",
   "lastEditTime": 1760671504351
  }
 },
 "nbformat_minor": 5,
 "nbformat": 4,
 "cells": [
  {
   "cell_type": "code",
   "id": "3775908f-ca36-4846-8f38-5adca39217f2",
   "metadata": {
    "language": "python",
    "name": "cell1"
   },
   "source": "# Import python packages\nimport streamlit as st\n\n# We can also use Snowpark for our analyses!\nfrom snowflake.snowpark.context import get_active_session\nsession = get_active_session()\n",
   "execution_count": null,
   "outputs": []
  },
  {
   "cell_type": "code",
   "id": "8d50cbf4-0c8d-4950-86cb-114990437ac9",
   "metadata": {
    "language": "sql",
    "name": "cell2"
   },
   "source": "-- Welcome to Snowflake Notebooks!\n-- Try out a SQL cell to generate some data.\nSELECT 'FRIDAY' as SNOWDAY, 0.2 as CHANCE_OF_SNOW\nUNION ALL\nSELECT 'SATURDAY',0.5\nUNION ALL \nSELECT 'SUNDAY', 0.9;",
   "execution_count": null,
   "outputs": []
  },
  {
   "cell_type": "code",
   "id": "c695373e-ac74-4b62-a1f1-08206cbd5c81",
   "metadata": {
    "language": "python",
    "name": "cell3"
   },
   "source": "# Then, we can use the python name to turn cell2 into a Pandas dataframe\nmy_df = cell2.to_pandas()\n\n# Chart the data\nst.subheader(\"Chance of SNOW ❄️\")\nst.line_chart(my_df, x='SNOWDAY', y='CHANCE_OF_SNOW')\n\n# Give it a go!\nst.subheader(\"Try it out yourself and show off your skills 🥇\")",
   "execution_count": null,
   "outputs": []
  },
  {
   "cell_type": "code",
   "id": "4d8f0671-ea6f-4ed5-97fb-a2d0cd180ee8",
   "metadata": {
    "language": "python",
    "name": "cell5"
   },
   "outputs": [],
   "source": "import snowflake\nimport snowflake.snowpark as snowpark\nimport snowflake.snowpark.functions as F\nfrom snowflake.snowpark.functions import udf, pandas_udf\nfrom snowflake.snowpark.dataframe import map\nfrom snowflake.snowpark.window import Window\nfrom snowflake.snowpark.types import IntegerType, FloatType, StringType, BooleanType, StructType, MapType, ArrayType, PandasSeriesType\nfrom snowflake.snowpark.context import get_active_session\nimport pandas as pd\nimport numpy as np\nimport json\nimport re\nfrom typing import List",
   "execution_count": null
  },
  {
   "cell_type": "code",
   "id": "19b77890-5074-4fd6-94a7-80bbb398cbba",
   "metadata": {
    "language": "python",
    "name": "cell30"
   },
   "outputs": [],
   "source": "session = get_active_session()\nbatch_raw = session.table('AATT_RAW.PUBLIC.BATCH_RAW')\nfield_raw = session.table('AATT_RAW.PUBLIC.FIELD_RAW')\nbatch_table = session.table('AATT_CLEANSED.PUBLIC.BATCH_CLEANSED')\nfield_table = session.table('AATT_CLEANSED.PUBLIC.FIELD_CLEANSED')\nage_gates = [13,16,18]\n\nsubjects_df = session.table('AATT_RAW.PUBLIC.SUBJECTS')",
   "execution_count": null
  },
  {
   "cell_type": "code",
   "id": "eef8b28a-4784-468d-858e-4f87fce3621f",
   "metadata": {
    "language": "python",
    "name": "cell10"
   },
   "outputs": [],
   "source": "@pandas_udf(return_type = PandasSeriesType(StringType()),\n            input_types = [\n                PandasSeriesType(StringType()),\n                PandasSeriesType(StringType()),\n                PandasSeriesType(StringType()),\n                PandasSeriesType(StringType()),\n            ],\n            is_permanent = False,\n            replace = True\n)\ndef fill_subject_background(\n    first_nations: pd.Series,\n    subject_bg: pd.Series,\n    father_bg: pd.Series,\n    mother_bg: pd.Series,\n) -> pd.Series:\n\n    first_nations_rows = first_nations.isin([\"aboriginal\", \"torresStrait\", \"both\"])\n\n    parents_same_bg_rows = (\n        (pd.notna(father_bg)) &\n        (pd.notna(mother_bg)) &\n        (father_bg == mother_bg) &\n        ~(father_bg.isin((\"NONE\",\"none\"))) &\n        ~(mother_bg.isin((\"NONE\",\"none\")))\n    )\n    subject_valid_bg_rows = (\n        (pd.notna(subject_bg)) &\n        ~(subject_bg.isin((\"NONE\",\"none\")))\n    )\n\n    bg = pd.Series(pd.NA, index=subject_bg.index)\n\n    bg.loc[subject_valid_bg_rows] = subject_bg\n    bg.loc[parents_same_bg_rows] = father_bg[parents_same_bg_rows]\n    bg.loc[first_nations_rows] = \"First Nations\"\n    \n    return bg\n    ",
   "execution_count": null
  },
  {
   "cell_type": "code",
   "id": "8b1f1aa7-079f-4ca0-814d-811594c3f854",
   "metadata": {
    "language": "python",
    "name": "cell21"
   },
   "outputs": [],
   "source": "@pandas_udf(\n    return_type = PandasSeriesType(IntegerType()),\n    input_types = [\n        PandasSeriesType(StringType())\n    ],\n    is_permanent = False,\n    replace = True\n)\ndef parse_verification_time(verification_time: pd.Series) -> pd.Series:\n\n    array_time_series = verification_time.str.split(\":\")\n    time_series = array_time_series.apply(\n        lambda x: pd.to_numeric(x[2]) + 60*pd.to_numeric(x[1]) + 3600*pd.to_numeric(x[0]) if x is not None and len(x) == 3 \n                      else None\n    )\n    return time_series",
   "execution_count": null
  },
  {
   "cell_type": "code",
   "id": "0f3e29f6-2639-4f4a-9ed5-f68f4e9f6567",
   "metadata": {
    "language": "python",
    "name": "cell11"
   },
   "outputs": [],
   "source": "country_region_num = json.load(open(\"country_region_num.json\",\"r\"))\nregion_name = json.load(open(\"region_name.json\",\"r\"))\n\ncountry_region_num_df = pd.DataFrame(\n    [(k, v) for k,v in country_region_num.items()], columns=[\"COUNTRY_CODE\",\"REGION_NUM\"]\n)\nregion_name_df = pd.DataFrame(\n    [(k, v) for k,v in region_name.items()], columns=[\"REGION_NUM\",\"REGION_NAME\"]\n)\n\ncountry_region_num_df = session.create_dataframe(country_region_num_df)\nregion_name_df = session.create_dataframe(region_name_df)\n\ncountry_region_df = country_region_num_df.join(\n    region_name_df,\n    'REGION_NUM',\n    how = 'inner'\n).select(\n    F.col(\"COUNTRY_CODE\"),\n    F.col(\"REGION_NAME\")\n)",
   "execution_count": null
  },
  {
   "cell_type": "code",
   "id": "dd6276ed-e91f-4d2b-bec4-30864c0051d8",
   "metadata": {
    "language": "python",
    "name": "cell20"
   },
   "outputs": [],
   "source": "whitelisted_users_school = [line.removesuffix(\"\\n\") for line in open(f\"school_users.txt\", \"r\").readlines()]\nwhitelisted_users_mystery = [line.removesuffix(\"\\n\") for line in open(f\"mystery_users.txt\", \"r\").readlines()]\n\nwhitelisted_users_school = session.create_dataframe(whitelisted_users_school)\nwhitelisted_users_mystery = session.create_dataframe(whitelisted_users_mystery)\n",
   "execution_count": null
  },
  {
   "cell_type": "code",
   "id": "95a1530e-15fb-4bb4-9a25-0a2bc3fe44f7",
   "metadata": {
    "language": "python",
    "name": "cell19"
   },
   "outputs": [],
   "source": "field_raw = session.table('AATT_RAW.PUBLIC.FIELD_RAW')\n\ndef fix_raw_results(raw_results_df: snowpark.DataFrame) -> snowpark.DataFrame:\n    abbrev_lookup = {\"AE\": \"Estimation\", \"AV\": \"Verification\", \"AI\": \"Inference\"}\n    \n    # FIX OLD RULES WITH TWO LETTER METHOD\n    # FORCE AGE GATE TO 16 WHERE APPLICABLE\n    \n    old_rows = raw_results_df.select(\n        F.col(\"SUBJECT_ID\"),\n        F.col(\"RESULT_TIME\"),\n        F.col(\"NAME\")\n    ).where(\n        field_raw[\"METHOD\"].isin((\"AE\",\"AV\",\"AI\"))\n    )\n    \n    old_rows = old_rows.with_column(\n        \"AGE_GATE\", \n        F.when(\n            (old_rows[\"METHOD\"] == \"AE\") & ~(old_rows[\"NAME\"].isin((\"Arissian\",\"PrivateId\",\"Privately\",\"Yoti\"))),\n            F.lit(0)\n        ).otherwise(\n            F.lit(16)\n        )\n    )\n    \n    old_rows = old_rows.with_column(\n        \"METHOD\", \n        F.when(\n            F.col(\"METHOD\") == \"AE\",\n            \"Estimation\"\n        ).when(\n            F.col(\"METHOD\") == \"AV\",\n            \"Verification\"\n        ).when(\n            F.col(\"METHOD\") == \"AI\",\n            \"Inference\"\n        ).otherwise(\n            None\n        )\n    )\n    \n    merge_result = raw_results_df.merge(\n        source = old_rows,\n        join_expr = (\n            (raw_results_df['SUBJECT_ID'] == old_rows['SUBJECT_ID']) &\n            (raw_results_df['RESULT_TIME'] == old_rows['RESULT_TIME']) &\n            (raw_results_df['NAME'] == old_rows['NAME'])\n        ),\n        clauses = [\n            F.when_matched().update(\n                {\n                    \"METHOD\": old_rows[\"METHOD\"],\n                    \"AGE_GATE\": old_rows[\"AGE_GATE\"]\n                }\n            )\n        ]\n    )\n\n    return raw_results_df\n\ndef filter_raw_results(raw_results_df: snowpark.DataFrame) -> snowpark.DataFrame:\n    \n    raw_results_df = raw_results_df.with_column(\n        \"TEST_TYPE\", \n        F.when(\n            raw_results_df[\"CREATE_USER\"].isin(whitelisted_users_school), \"School\"\n        ).when(\n            raw_results_df[\"CREATE_USER\"].isin(whitelisted_users_mystery), \"Mystery Shoppers\"\n        ).otherwise(None)\n    )\n    \n    filtered_raw_results_df = raw_results_df.select(\n        F.col(\"SUBJECT_ID\"), \n        F.col(\"TEST_TYPE\"),\n        F.col(\"RESULT_TIME\").alias(\"TIMESTAMP\"), \n        F.col(\"NAME\").alias(\"PROVIDER\"), \n        F.col(\"METHOD\"),\n        F.col(\"AGE_GATE\"),\n        F.col(\"VERIFICATION_TIME\"),\n        F.col(\"VERIFICATION_DATA\")\n    ).where(\n        F.col(\"TEST_TYPE\").isNotNull()\n    )\n\n    return filtered_raw_results_df\n",
   "execution_count": null
  },
  {
   "cell_type": "code",
   "id": "3d8dfcbf-516e-4280-9eb1-f642cd6c137a",
   "metadata": {
    "language": "python",
    "name": "cell24"
   },
   "outputs": [],
   "source": "@udf(\n    replace = True,\n    is_permanent = False,\n    input_types = [\n                StringType(),\n                IntegerType(),\n                StringType(),\n                StringType()\n    ],\n    return_type = MapType(StringType(), FloatType()),\n    session = session\n)\ndef parse_raw_provider_result(method, age_gate, vendor, result_str):\n    age_gate = None if age_gate is None else int(age_gate)\n    match vendor:\n\n        case 'IDmission':\n            if method==\"Estimation\":\n                try:\n                    verification_data = json.loads(result_str)\n                    estimated_age = round(float(verification_data[0]['resultData']['estimatedAge']), 2)\n                    confidence = round(float(verification_data[0]['resultData']['realScore']), 2)\n                    return {'estimate': estimated_age} if estimated_age > 0 else None\n                except Exception as err:\n                    return None\n            \n            if method==\"Verification\":\n                try:\n                    verification_data = json.loads(result_str)\n                    ver_result_string = verification_data[0]['resultData']['verificationResult']\n                    \n                    if ver_result_string == \"Approved\":\n                        ver_result = 1\n                    elif ver_result_string == \"Under the Age of 18\":\n                        ver_result = 0\n                    else:\n                        ver_result = 0\n                    return {'18': ver_result}\n                except Exception as err:\n                    return None\n\n        case 'PrivateId':\n            try:\n                verification_data = json.loads(result_str)\n                estimated_age = round(float(verification_data['age']), 2)\n                return {'estimate': estimated_age} if estimated_age > 0 else None\n            except Exception as err:\n                return None\n\n        case 'VerifyChain':\n            try:\n                verification_data = json.loads(result_str)\n                estimated_age = round(float(verification_data['estimatedAge']), 2)\n                confidence = round(float(verification_data['confidence']), 2)\n                return {'estimate': estimated_age} if estimated_age > 0 else None\n            except Exception as err:\n                return None\n\n        case 'IDVerse':\n            try:\n                verification_data = json.loads(result_str)\n\n                estimated_age = None\n                for doc in verification_data['results']['documents']:\n                    if estimated_age is None:\n                        estimated_age = round(float(doc['calculatedData']['age']), 2)\n                    else:\n                        return None\n                return {'estimate': estimated_age} if estimated_age > 0 else None\n            except Exception as err:\n                return None\n\n        case 'Unissey':\n            try:\n                verification_data = json.loads(result_str)\n                estimated_age = round(float(verification_data[\"data\"][\"details\"][\"age\"][\"age_estimation\"][\"estimated_age\"]), 2)\n                age_range = verification_data[\"data\"][\"details\"][\"age\"][\"age_estimation\"][\"age_range\"]\n                return {'estimate': estimated_age} if estimated_age > 0 else None\n            except Exception as err:\n                return None\n\n        case 'Persona':\n            if method==\"Estimation\":\n                try:\n                    verification_data = json.loads(result_str)\n\n                    estimated_age = round(float(verification_data['data']['attributes']['fields']['selfie-estimated-age']['value']), 2)\n                    return {'estimate': estimated_age} if estimated_age > 0 else None\n\n                except Exception as err:\n                    return None\n            \n            if method==\"Verification\":\n                try:\n                    verification_data = json.loads(result_str)\n                    verified_docs = set()\n                    for included_obj in verification_data['included']:\n                        if included_obj['type'].startswith('verification/') and included_obj[\"attributes\"][\"status\"] == \"passed\":\n                            verified_docs.add(included_obj['type'])\n                    if len(verified_docs) >= 2:\n                        ver_result = 1\n                    else:\n                        ver_result = 0\n                    return {'18': ver_result}\n\n                except Exception as err:\n                    return None\n\n        case 'Yoti':\n            try:\n                verification_data = json.loads(result_str)\n                estimated_age = round(float(verification_data[\"age\"]), 2)\n                return {'estimate': estimated_age} if estimated_age > 0 else None\n            except Exception as err:\n                return None\n\n        case 'Rigr-AI':\n            try:\n                verification_data = json.loads(result_str)\n                estimated_age = round(float(verification_data[\"age\"]), 2)\n                uncertainty = round(float(verification_data[\"uncertainty\"]), 2)\n                return {'estimate': estimated_age} if estimated_age > 0 else None\n                \n            except Exception as err:\n                try:\n                    verification_data = json.loads(result_str)\n                    estimated_age = round(float(verification_data['response']['results'][0]['results'][0]['age']), 2)\n                    uncertainty = round(float(verification_data['response']['results'][0]['results'][0][\"uncertainty\"]), 2)\n                    return {'estimate': estimated_age} if estimated_age > 0 else None\n                except Exception as err:\n                    return None\n\n        case 'Arissian':\n            try:\n                verification_data = json.loads(result_str)\n                msgData = json.loads(verification_data['MsgData'])\n\n                info_string = msgData['Info']\n                age_gate_match = re.match(r\".* (target age of (\\d+)) .*\", info_string)\n                age_gate = int(age_gate_match.group(2))\n\n                pass_match = re.match(r\".* (\\[AE_(PASS|FAIL)\\])\", info_string)\n                bool_check = 1 if pass_match.group(2) == 'PASS' else 0\n\n                #confidence_match = re.match(r\"(.*) confidence .*\", info_string)\n                #confidence_level = confidence_match.group(1)\n\n                return {str(age_gate): bool_check}\n\n            except Exception:\n                return None\n\n        case 'Needemand':\n            try:\n                verification_data = json.loads(result_str)\n                if age_gate is not None:\n                    if verification_data['result'] == '1':\n                        return {str(age_gate): 1}\n                    elif verification_data['result'] == '0':\n                        return {str(age_gate): 0}\n                    else:\n                        return None\n                else:\n                    return None\n            except Exception:\n                return None\n\n        case 'ShareRing':\n            try:\n                verification_data = json.loads(result_str)\n                ver_msg = verification_data[\"qrRes\"]\n                age_gate_match_pos = re.match(r\"\\nYes, I am (\\d+) or over\", ver_msg)\n                if age_gate_match_pos:\n                    age_gate = str(age_gate_match_pos.group(1))\n                    return {age_gate: 1}\n                age_gate_match_neg = re.match(r\"\\nNo, I'm not over (\\d+)\", ver_msg)\n                if age_gate_match_neg:\n                    age_gate = str(age_gate_match_neg.group(1))\n                    return {age_gate: 0}\n                return None\n            except Exception:\n                return None\n\n        case 'RightCrowd':\n            try:\n                verification_data = json.loads(result_str)\n                age_gate_pass = 1 if verification_data['result'] == \"True\" else 0\n                \n                return {str(verification_data['ageThreshold']): age_gate_pass}\n            except Exception as err:\n                return None\n\n        case 'MyMahi':\n            try:\n                verification_data = json.loads(result_str)\n                age_gate_results = verification_data['age_equal_or_over']\n                return {str(age_gate): 1 if age_gate_results[age_gate] else 0 for age_gate in age_gate_results}\n            except Exception as err:\n                return None\n\n        case 'VerifyMy':\n            try:\n                verification_data = json.loads(result_str)\n                return {str(age_gate): 1 if verification_data['age_verified'] else 0}\n            except Exception as err:\n                return None\n\n        case 'Privately':\n            try:\n                verification_data = json.loads(result_str)\n                return {str(verification_data[\"age\"]): 1 if verification_data[\"rlt\"] else 0}\n            except Exception as err:\n                return None\n\n        case _:\n            return None",
   "execution_count": null
  },
  {
   "cell_type": "code",
   "id": "95999565-21b3-4757-af1f-4d07fc99fabc",
   "metadata": {
    "language": "python",
    "name": "cell7"
   },
   "outputs": [],
   "source": "@pandas_udf(\n    return_type = PandasSeriesType(StringType()),\n    input_types = [\n        PandasSeriesType(IntegerType()),\n        PandasSeriesType(FloatType()),\n        PandasSeriesType(MapType(StringType(), BooleanType())),\n    ],\n    is_permanent = False,\n    replace = True\n)\ndef format_verification_result(\n    age_gate: pd.Series,\n    estimated_age: pd.Series,\n    dict_over_age_gate: pd.Series\n) -> pd.Series:\n\n    result_series = pd.Series(pd.NA, index=estimated_age.index)\n\n    estimated_age_valid = (pd.notna(estimated_age)) & (~np.isnan(estimated_age))\n\n    temp_df = pd.DataFrame(index=(~estimated_age_valid).index)\n    temp_df[\"AGE_GATE\"] = age_gate[~estimated_age_valid]\n    temp_df[\"DICT_OVER_AGE_GATE\"] = dict_over_age_gate[~estimated_age_valid]\n\n    temp_df.replace(np.nan, pd.NA, inplace=True)\n    \n    over_under_age_gate = temp_df.apply(\n        lambda x:  None if pd.isna(x[\"DICT_OVER_AGE_GATE\"])\n                        else (None if x['DICT_OVER_AGE_GATE'].get('18', None) is None else f\"over 18\" if x['DICT_OVER_AGE_GATE']['18'] else f\"under 18\") if x['AGE_GATE'] == 0\n                        else None if x['DICT_OVER_AGE_GATE'].get(str(int(x['AGE_GATE'])), None) is None \n                        else f\"over {str(int(x['AGE_GATE']))}\" if x['DICT_OVER_AGE_GATE'][str(int(x['AGE_GATE']))] \n                        else f\"under {str(int(x['AGE_GATE']))}\",\n        axis = 1\n    )\n    \n    result_series.loc[estimated_age_valid] = estimated_age[estimated_age_valid].astype('str')\n    result_series.loc[(~estimated_age_valid)] = over_under_age_gate\n\n    return result_series",
   "execution_count": null
  },
  {
   "cell_type": "code",
   "id": "6cd7a499-6700-4d7f-9219-05f01997b5e5",
   "metadata": {
    "language": "python",
    "name": "cell28"
   },
   "outputs": [],
   "source": "def parse_raw_results(filtered_raw_results_df: snowpark.DataFrame) -> snowpark.DataFrame:\n\n    filtered_raw_results_df = filtered_raw_results_df.with_column(\n        \"VERIFICATION_TIME\",\n        parse_verification_time(filtered_raw_results_df[\"VERIFICATION_TIME\"])\n    )\n\n    temp_df = filtered_raw_results_df.select(\n        F.col(\"SUBJECT_ID\"),\n        F.col(\"PROVIDER\"),\n        F.col(\"METHOD\"),\n        F.col(\"AGE_GATE\"),\n        F.col(\"VERIFICATION_DATA\")\n    )\n\n    temp_df = temp_df.with_column(\n        \"PARSED_RESULT\",\n        parse_raw_provider_result(\n            temp_df['METHOD'],\n            temp_df['AGE_GATE'],\n            temp_df['PROVIDER'],\n            temp_df['VERIFICATION_DATA']\n        )\n    )\n    \n    temp_df = temp_df.with_column(\n        \"ESTIMATED_AGE\",\n        F.get(\n            temp_df[\"PARSED_RESULT\"],\n            F.lit(\"estimate\")\n        )\n    )\n    temp_df = temp_df.select(\n        F.col(\"SUBJECT_ID\"),\n        F.col(\"PROVIDER\"),\n        F.col(\"METHOD\"),\n        F.col(\"AGE_GATE\"),\n        F.col(\"ESTIMATED_AGE\"),\n        F.when(\n            F.col(\"ESTIMATED_AGE\").isNull(),\n            F.col(\"PARSED_RESULT\")\n        ).otherwise(None).alias(\"DICT_OVER_AGE_GATE\")\n    )\n\n    return temp_df\n\n\ndef write_verification_results_to_table(\n    filtered_raw_results_df: snowpark.DataFrame,\n    verification_results_df: snowpark.DataFrame\n) -> snowpark.DataFrame:\n    \n    temp_df = filtered_raw_results_df.select(\n        F.col(\"SUBJECT_ID\"), \n        F.col(\"TEST_TYPE\"), \n        F.col(\"TIMESTAMP\"), \n        F.col(\"PROVIDER\"), \n        F.col(\"METHOD\"), \n        F.col(\"AGE_GATE\"), \n        F.col(\"VERIFICATION_TIME\"),\n    ).with_column(\n        \"ESTIMATED_AGE\", \n        F.lit(None).cast(FloatType())\n    ).with_column(\n        \"DICT_OVER_AGE_GATE\",\n        F.lit(None).cast(MapType(StringType(), BooleanType()))\n    )\n    \n    temp_df.write.save_as_table(\"filtered_raw_results\", mode=\"overwrite\", table_type=\"temporary\")\n    temp_df = session.table('filtered_raw_results')\n    \n    merge_result = temp_df.merge(\n        source = verification_results_df,\n        join_expr = (\n            (temp_df['SUBJECT_ID'] == verification_results_df['SUBJECT_ID']) &\n            (temp_df['PROVIDER'] == verification_results_df['PROVIDER']) &\n            (temp_df['METHOD'] == verification_results_df['METHOD']) &\n            (temp_df['AGE_GATE'] == verification_results_df['AGE_GATE'])\n        ),\n        clauses = [\n            F.when_matched().update(\n                {\n                    \"ESTIMATED_AGE\": verification_results_df[\"ESTIMATED_AGE\"],\n                    \"DICT_OVER_AGE_GATE\": verification_results_df[\"DICT_OVER_AGE_GATE\"]\n                }\n            )\n        ]\n    )\n    \n    return temp_df\n    \n\n\ndef split_results_by_method(filtered_parsed_results_df: snowpark.DataFrame) -> snowpark.DataFrame:\n\n    filtered_parsed_results_df = filtered_parsed_results_df.with_column(\n        \"FORMATTED_RESULT\",\n        format_verification_result(\n            F.col(\"AGE_GATE\"),\n            F.col(\"ESTIMATED_AGE\"),\n            F.col(\"DICT_OVER_AGE_GATE\")\n        )\n    )\n    \n    filtered_parsed_results_df = filtered_parsed_results_df.with_column(\n        [\"AE_RESULT\",\"AV_RESULT\",\"AI_RESULT\"], \n        [\n            F.when(\n                F.col(\"METHOD\") == \"Estimation\",\n                F.col(\"FORMATTED_RESULT\")\n            ).otherwise(\n                None\n            ),\n            F.when(\n                F.col(\"METHOD\") == \"Verification\",\n                F.col(\"FORMATTED_RESULT\")\n            ).otherwise(\n                None\n            ),\n            F.when(\n                F.col(\"METHOD\") == \"Inference\",\n                F.col(\"FORMATTED_RESULT\")\n            ).otherwise(\n                None\n            )\n        ]\n    ).select(\n        F.col(\"SUBJECT_ID\"),\n        F.col(\"TEST_TYPE\"), \n        F.col(\"TIMESTAMP\"), \n        F.col(\"PROVIDER\"),\n        F.col(\"METHOD\"),\n        F.col(\"AGE_GATE\"),\n        F.col(\"AE_RESULT\"),\n        F.col(\"AV_RESULT\"),\n        F.col(\"AI_RESULT\"),\n        F.col(\"VERIFICATION_TIME\")\n    )\n\n    return filtered_parsed_results_df",
   "execution_count": null
  },
  {
   "cell_type": "code",
   "id": "e100be25-69a3-4c45-8ac5-6f6b83bf3991",
   "metadata": {
    "language": "python",
    "name": "cell4"
   },
   "outputs": [],
   "source": "subjects_df = session.table('AATT_RAW.PUBLIC.SUBJECTS')\n\ndef clean_subjects_table(subjects_df: snowpark.DataFrame) -> snowpark.DataFrame:\n    subjects_df = subjects_df.with_column(\n        \"BACKGROUND\",\n        fill_subject_background(\n            subjects_df['ORIGIN'],\n            subjects_df['COUNTRY_OF_BIRTH_SUBJECT'],\n            subjects_df['COUNTRY_OF_BIRTH_FATHER'],\n            subjects_df['COUNTRY_OF_BIRTH_MOTHER']\n        )\n    )\n    \n    subjects_df = subjects_df.join(\n        country_region_df,\n        subjects_df['BACKGROUND'] == country_region_df['COUNTRY_CODE'],\n        how='left'\n    )\n    \n    subjects_df = subjects_df.with_column(\n        \"BACKGROUND\",\n        F.when(\n            F.col(\"BACKGROUND\") == \"First Nations\",\n            \"First Nations\"\n        ).otherwise(\n            F.col(\"REGION_NAME\")\n        )\n    )\n    \n    subjects_df = subjects_df.with_column(\n        \"REAL_AGE_FLOAT\",\n        F.when(\n            (F.col(\"AGE_IN_MONTHS\") > 0) & (F.col(\"AGE_IN_MONTHS\") < 25*12),\n            F.bround(F.col(\"AGE_IN_MONTHS\")/12, 2)\n        ).otherwise(\n            None\n        )\n    )\n    \n    subjects_df = subjects_df.with_column(\n        \"SUBJECT_AGE\",\n        F.when(\n            F.col(\"AGE_IN_MONTHS\") >= 25*12,\n            \">=25\"\n        ).when(\n            F.col(\"AGE_IN_MONTHS\") < 10*12,\n            \"<10\"\n        ).when(\n            (\n                (F.col(\"AGE_IN_MONTHS\") > 0) &\n                (F.col(\"AGE_IN_MONTHS\") < 25*12)\n            ),\n            F.cast(\n                F.cast(\n                    F.floor(F.col(\"REAL_AGE_FLOAT\")),\n                    IntegerType()\n                ), \n                StringType()\n            )\n        ).otherwise(\n            None\n        )\n    )\n    \n    subjects_df = subjects_df.select(\n        F.col(\"ID\").alias(\"SUBJECT_ID\"),\n        F.col(\"BACKGROUND\"),\n        F.col(\"REAL_AGE_FLOAT\"),\n        F.col(\"SUBJECT_AGE\")\n    )\n    return subjects_df",
   "execution_count": null
  },
  {
   "cell_type": "code",
   "id": "85f05c72-a40a-4c86-aa98-3fc00d20ed2f",
   "metadata": {
    "language": "python",
    "name": "cell17"
   },
   "outputs": [],
   "source": "filtered_field_result.write.mode(\"overwrite\").save_as_table(\"filtered_field_result\", table_type=\"temp\")\nsubjects_df.write.mode(\"overwrite\").save_as_table(\"processed_subjects\", table_type=\"temp\")\n\nprint(filtered_field_result.count())\nprint(subjects_df.count())",
   "execution_count": null
  },
  {
   "cell_type": "code",
   "id": "ba7d0318-e9f5-4c12-9f03-39ec5c2f8ae9",
   "metadata": {
    "language": "python",
    "name": "cell31"
   },
   "outputs": [],
   "source": "filtered_field_result = session.table(\"filtered_field_result\")\nprocessed_subjects = session.table(\"processed_subjects\")\n\n\n",
   "execution_count": null
  },
  {
   "cell_type": "code",
   "id": "8a6d099d-e15e-4a22-acee-0dfc08b2ec12",
   "metadata": {
    "language": "python",
    "name": "cell14"
   },
   "outputs": [],
   "source": "def create_cleansed_table(\n    filtered_parsed_results_df: snowpark.DataFrame,\n    processed_subjects_df: snowpark.DataFrame\n) -> snowpark.DataFrame:\n    \n    cleansed_df = filtered_parsed_results_df.join(\n        processed_subjects_df,\n        \"SUBJECT_ID\",\n        how='inner'\n    )\n    \n    cleansed_df = cleansed_df.with_column(\n        \"ABS_ERROR\",\n        F.abs(F.col(\"REAL_AGE_FLOAT\") - F.col(\"ESTIMATED_AGE\"))\n    ).where(\n        (\n            (F.col(\"REAL_AGE_FLOAT\") >= 11) &\n            (F.col(\"REAL_AGE_FLOAT\") < 18) &\n            (F.col(\"TEST_TYPE\") == \"School\")\n        ) |\n        (\n            (F.col(\"REAL_AGE_FLOAT\") > 0 ) &\n            (F.col(\"TEST_TYPE\") == \"Mystery Shoppers\")\n        )\n    )\n    \n    cleansed_df = cleansed_df.select(\n        F.col(\"SUBJECT_ID\"), \n        F.col(\"SUBJECT_AGE\"),\n        F.col(\"BACKGROUND\"),\n        F.col(\"TEST_TYPE\"), \n        F.col(\"TIMESTAMP\"), \n        F.col(\"PROVIDER\"), \n        F.col(\"METHOD\"), \n        F.col(\"AGE_GATE\"), \n        F.col(\"AE_RESULT\"), \n        F.col(\"AV_RESULT\"), \n        F.col(\"AI_RESULT\"), \n        F.col(\"ABS_ERROR\"), \n        F.col(\"VERIFICATION_TIME\")\n    )\n    return cleansed_df",
   "execution_count": null
  },
  {
   "cell_type": "code",
   "id": "b0862468-5903-4ed6-af2d-b031ed9a7811",
   "metadata": {
    "language": "python",
    "name": "cell9"
   },
   "outputs": [],
   "source": "@udf(\n    replace = True,\n    is_permanent = False,\n    input_types = [\n                StringType(),\n                StringType(),\n                IntegerType(),\n                IntegerType()\n    ],\n    return_type = StringType()\n)\ndef gate_check(real_age,\n               estimated_age,\n               result_age_gate,\n               query_age_gate\n):\n\n    def positive_check(query, threshold):\n        return \"TP\" if query >= threshold else \"FP\"\n\n    def negative_check(query, threshold):\n        return \"TN\" if query < threshold else \"FN\"\n\n\n    if result_age_gate != 0 and query_age_gate != result_age_gate:\n        return None\n\n    try:\n        if type(real_age) is str:\n            if real_age.startswith(\">=\"):\n                real_age = float(real_age[2:])\n            elif real_age.startswith(\"<\"):\n                real_age = float(real_age[1:])\n            else:\n                real_age = pd.to_numeric(real_age, errors='raise', downcast='float')\n        else:\n            real_age = pd.to_numeric(real_age, errors='raise', downcast='float')\n    except:\n        return None\n\n    try:\n        if pd.isna(estimated_age):\n            return None\n        estimated_age_float = pd.to_numeric(estimated_age, errors='raise', downcast='float')\n\n        if estimated_age_float >= query_age_gate:\n            check = positive_check(real_age, query_age_gate)\n        else:\n            check = negative_check(real_age, query_age_gate)\n        return check\n\n    # generally for handling cases where estimated age is not a number, but only string that is a binary choice of over/under some integer e.g. \"over 18\"\n    except:\n        split_str = estimated_age.split(' ')\n        if query_age_gate == int(split_str[1]):\n            if split_str[0] == \"over\":\n                if real_age >= query_age_gate:\n                    return \"TP\"\n                else:\n                    return \"FP\"\n            elif split_str[0] == \"under\":\n                if real_age < query_age_gate:\n                    return \"TN\"\n                else:\n                    return \"FN\"\n        else:\n            return None\n",
   "execution_count": null
  },
  {
   "cell_type": "code",
   "id": "0f71f72d-ace7-4e3a-86ed-ea4b0891f24c",
   "metadata": {
    "language": "python",
    "name": "cell6"
   },
   "outputs": [],
   "source": "def filter_by_method_type(\n    cleansed_df: snowpark.DataFrame,\n    method:str = None,\n    test_type:str = None,\n    discard_outliers:bool = True\n) -> snowpark.DataFrame:\n    \n    abbrev_lookup = {\"AE\": \"Estimation\", \"AV\": \"Verification\", \"AI\": \"Inference\"}\n    rev_abbrev_lookup = {v: k for k, v in abbrev_lookup.items()}\n\n    if discard_outliers:\n        abs_error_float = F.col('ABS_ERROR').astype('float')\n        \n        # Calculate overall statistics\n        stats_df = cleansed_df.agg(\n            F.avg(abs_error_float).alias(\"overall_mean\"),\n            F.stddev(abs_error_float).alias(\"overall_stdev\")\n        ).collect()[0]\n\n        upper_bound = stats_df[\"OVERALL_MEAN\"] + 2*stats_df[\"OVERALL_STDEV\"] if stats_df[\"OVERALL_MEAN\"] is not None and stats_df[\"OVERALL_STDEV\"] is not None else None\n        lower_bound = stats_df[\"OVERALL_MEAN\"] - 2*stats_df[\"OVERALL_STDEV\"] if stats_df[\"OVERALL_MEAN\"] is not None and stats_df[\"OVERALL_STDEV\"] is not None else None\n\n        # Apply outlier filtering\n        cleansed_df = cleansed_df.with_column(\n            \"ABS_ERROR\",\n            F.when(\n                (F.is_null(abs_error_float)) |\n                (F.equal_nan(abs_error_float)) |\n                ((upper_bound is not None) &\n                    (lower_bound is not None) &\n                    ((abs_error_float < lower_bound) | (abs_error_float > upper_bound))\n                ),\n                None\n            ).otherwise(\n                abs_error_float\n            )\n        )\n\n    if method is not None:\n        if method not in rev_abbrev_lookup:\n            raise ValueError(f\"Invalid method: {method}. Must be one of {list(rev_abbrev_lookup.keys())}\")\n    \n        # Filter by method\n        cleansed_df = cleansed_df.where(\n            F.col(\"METHOD\") == method\n        )\n\n    if test_type is not None:\n        cleansed_df = cleansed_df.where(\n            F.col(\"TEST_TYPE\") == test_type\n        )\n    \n    return cleansed_df",
   "execution_count": null
  },
  {
   "cell_type": "code",
   "id": "459e2b60-2605-4ae6-8573-5cacc0a791b5",
   "metadata": {
    "language": "python",
    "name": "cell27"
   },
   "outputs": [],
   "source": "def generate_check_age_gates(\n    df: snowpark.DataFrame,\n    age_gates: List[int],\n    method:str = None\n) -> snowpark.DataFrame:\n\n    abbrev_lookup = {\"AE\": \"Estimation\", \"AV\": \"Verification\", \"AI\": \"Inference\"}\n    rev_abbrev_lookup = {v: k for k, v in abbrev_lookup.items()}\n\n    if method not in rev_abbrev_lookup:\n        raise AssertionError(\"No method selected\")\n\n    for age_gate in age_gates:\n        colname = f\"check{age_gate}\"\n\n        df = df.with_column(\n            colname,\n            gate_check(\n                F.col(\"SUBJECT_AGE\"),\n                F.col(f\"{rev_abbrev_lookup[method]}_RESULT\"),\n                F.col(\"AGE_GATE\"), F.lit(age_gate)\n            )\n        )\n\n    return_df = df.select(\n        F.col(\"SUBJECT_AGE\"),\n        *[F.col(f\"CHECK{ag}\") for ag in age_gates]\n    )\n\n    return return_df",
   "execution_count": null
  },
  {
   "cell_type": "code",
   "id": "f5518cb4-de2f-4fec-bcee-0fae5614dfa1",
   "metadata": {
    "language": "python",
    "name": "cell13"
   },
   "outputs": [],
   "source": "def group_aggregate(\n    groupby_columns: List[str],\n    df: snowpark.DataFrame\n) -> snowpark.DataFrame:\n\n    # explode vertically\n    df_long = df.flatten(\n        F.create_map(\n            [y for x in [[F.lit(f\"{ag}\"), f\"CHECK{ag}\"] for ag in age_gates] for y in x]\n        )\n    ).where(\n        (F.col(\"AGE_GATE\") == 0) | (F.col(\"KEY\") == F.col(\"AGE_GATE\"))\n    ).select(\n        F.col(\"SUBJECT_ID\"), F.col(\"SUBJECT_AGE\"), F.col(\"PROVIDER\"), F.col(\"KEY\").alias(\"AGE_GATE\"), F.col(\"VALUE\").alias(\"CHECK\"), F.col(\"ABS_ERROR\")\n    )\n\n    grouped_df = df_long.group_by(*([\"AGE_GATE\"] + groupby_columns))\n    \n    aggregated_errors_df = grouped_df.agg(\n        F.avg(\"ABS_ERROR\").alias(\"MAE\"),\n        F.stddev(\"ABS_ERROR\").alias(\"ABSOLUTE_ERROR_STDEV\")\n    )\n\n    aggregated_accuracies_df = grouped_df.agg(\n        F.sum(F.when(F.col(\"CHECK\") == \"TP\", 1).otherwise(0)).alias(\"TP\"),\n        F.sum(F.when(F.col(\"CHECK\") == \"TN\", 1).otherwise(0)).alias(\"TN\"),\n        F.sum(F.when(F.col(\"CHECK\") == \"FP\", 1).otherwise(0)).alias(\"FP\"),\n        F.sum(F.when(F.col(\"CHECK\") == \"FN\", 1).otherwise(0)).alias(\"FN\"),\n    )\n\n    combined_aggregate_df = aggregated_accuracies_df.with_columns(\n        [\"samples\",\"FPR\",\"FNR\",\"TPR\",\"TNR\",\"accuracy\"],\n        [\n            F.col(\"TP\") + F.col(\"TN\") + F.col(\"FP\") + F.col(\"FN\"),\n            F.when(\n                (F.col(\"TN\") + F.col(\"FP\")) == 0,\n                None\n            ).otherwise(\n                100 * F.col(\"FP\") / (F.col(\"TN\") + F.col(\"FP\"))\n            ),\n            F.when(\n                (F.col(\"TP\") + F.col(\"FN\")) == 0,\n                None\n            ).otherwise(\n                100 * F.col(\"FN\") / (F.col(\"TP\") + F.col(\"FN\"))\n            ),\n            F.when(\n                (F.col(\"TP\") + F.col(\"FN\")) == 0,\n                None\n            ).otherwise(\n                100 * F.col(\"TP\") / (F.col(\"TP\") + F.col(\"FN\"))\n            ),\n            F.when(\n                (F.col(\"TN\") + F.col(\"FP\")) == 0,\n                None\n            ).otherwise(\n                100 * F.col(\"TN\") / (F.col(\"TN\") + F.col(\"FP\"))\n            ),\n            F.when(\n                (F.col(\"TP\") + F.col(\"TN\") + F.col(\"FP\") + F.col(\"FN\")) == 0,\n                None\n            ).otherwise(\n                100 * (F.col(\"TP\") + F.col(\"TN\")) / (F.col(\"TP\") + F.col(\"TN\") + F.col(\"FP\") + F.col(\"FN\"))\n            )\n        ]\n    )\n\n    combined_aggregate_df = combined_aggregate_df.join(\n        aggregated_errors_df, \n        ['AGE_GATE','PROVIDER','SUBJECT_AGE'],\n        how = 'left'\n    ).select(\n        F.col(\"AGE_GATE\"),\n        F.col(\"PROVIDER\"),\n        F.col(\"SUBJECT_AGE\"),\n        F.col(\"SAMPLES\"),\n        F.col(\"FPR\"),\n        F.col(\"FNR\"),\n        F.col(\"TPR\"),\n        F.col(\"TNR\"),\n        F.col(\"ACCURACY\"),\n        F.col(\"MAE\"),\n        F.col(\"ABSOLUTE_ERROR_STDEV\")\n    ).sort(\"AGE_GATE\",\"PROVIDER\",\"SUBJECT_AGE\")\n    \n    return combined_aggregate_df\n",
   "execution_count": null
  },
  {
   "cell_type": "code",
   "id": "3d0d2af4-841b-4b4f-a3d3-d8d6f1f8178c",
   "metadata": {
    "language": "python",
    "name": "cell12"
   },
   "outputs": [],
   "source": "def create_aggregate_table(cleansed_table, method, test_type, age_gates):\n    filtered_field_df = filter_by_method_type(cleansed_table, method=method, test_type=test_type)\n    filtered_field_df = generate_check_age_gates(filtered_field_df, age_gates, method=method)\n    aggregated_table = group_aggregate([\"PROVIDER\",\"SUBJECT_AGE\"], filtered_field_df)\n    return aggregated_table",
   "execution_count": null
  },
  {
   "cell_type": "code",
   "id": "9506636d-896e-4385-ae44-85a4c67d8553",
   "metadata": {
    "language": "python",
    "name": "cell18"
   },
   "outputs": [],
   "source": "create_aggregate_table(cleansed_field, \"Estimation\", \"School\", [13,16,18])",
   "execution_count": null
  },
  {
   "cell_type": "code",
   "id": "b75618a4-e77e-4236-b964-20506e7e7459",
   "metadata": {
    "language": "python",
    "name": "cell8"
   },
   "outputs": [],
   "source": "import matplotlib.pyplot as plt\nfrom reportlab.platypus import SimpleDocTemplate, Paragraph, Image, Spacer\nfrom reportlab.lib.styles import getSampleStyleSheet\nfrom reportlab.lib.units import inch",
   "execution_count": null
  }
 ]
}